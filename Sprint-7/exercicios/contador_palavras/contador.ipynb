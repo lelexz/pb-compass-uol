{
  "nbformat": 4,
  "nbformat_minor": 0,
  "metadata": {
    "colab": {
      "provenance": []
    },
    "kernelspec": {
      "name": "python3",
      "display_name": "Python 3"
    },
    "language_info": {
      "name": "python"
    }
  },
  "cells": [
    {
      "cell_type": "code",
      "source": [
        "#instalando java\n",
        "!apt-get install openjdk-8-jdk-headless -qq > /dev/null"
      ],
      "metadata": {
        "id": "iblOKW9lw6H_"
      },
      "execution_count": 1,
      "outputs": []
    },
    {
      "cell_type": "code",
      "source": [
        "#instalando spark\n",
        "!pip install pyspark"
      ],
      "metadata": {
        "colab": {
          "base_uri": "https://localhost:8080/"
        },
        "id": "FM6weHvFw-1d",
        "outputId": "8ca93629-f16f-4b97-b463-92cb1565a212"
      },
      "execution_count": 2,
      "outputs": [
        {
          "output_type": "stream",
          "name": "stdout",
          "text": [
            "Requirement already satisfied: pyspark in /usr/local/lib/python3.10/dist-packages (3.5.3)\n",
            "Requirement already satisfied: py4j==0.10.9.7 in /usr/local/lib/python3.10/dist-packages (from pyspark) (0.10.9.7)\n"
          ]
        }
      ]
    },
    {
      "cell_type": "code",
      "source": [
        "#configurando variáveis de ambiente\n",
        "import os\n",
        "os.environ[\"JAVA_HOME\"] = \"/usr/lib/jvm/java-8-openjdk-amd64\"\n",
        "os.environ[\"SPARK_HOME\"] = \"/usr/local/lib/python3.10/dist-packages/pyspark\""
      ],
      "metadata": {
        "id": "_s8_i1Q3xHat"
      },
      "execution_count": 3,
      "outputs": []
    },
    {
      "cell_type": "code",
      "source": [
        "#iniciando SparkSession\n",
        "from pyspark.sql import SparkSession\n",
        "\n",
        "spark = SparkSession.builder.master(\"local\").appName(\"Contagem de palavras\").getOrCreate()\n"
      ],
      "metadata": {
        "id": "ciu51Og4xTbW"
      },
      "execution_count": 4,
      "outputs": []
    },
    {
      "cell_type": "code",
      "source": [
        "#carregando o arquivo\n",
        "caminho = '/content/README.md'\n",
        "arquivo = spark.read.text(caminho)\n",
        "\n",
        "#confirmando se o arquivo foi carregado corretamente\n",
        "arquivo.show(truncate=False)"
      ],
      "metadata": {
        "id": "iuqnUQPTxpIl",
        "colab": {
          "base_uri": "https://localhost:8080/"
        },
        "outputId": "11d7cd67-0612-470e-8889-c7fceffd0b84"
      },
      "execution_count": 7,
      "outputs": [
        {
          "output_type": "stream",
          "name": "stdout",
          "text": [
            "+--------------------------------------------------------------------------------------------------------------------------------------------------------------------------------------------------------------------------------------------------------------------------------------------------------------------------------------------------------------------------------------------------------+\n",
            "|value                                                                                                                                                                                                                                                                                                                                                                                                   |\n",
            "+--------------------------------------------------------------------------------------------------------------------------------------------------------------------------------------------------------------------------------------------------------------------------------------------------------------------------------------------------------------------------------------------------------+\n",
            "|##   Sprint 6 - Desafio                                                                                                                                                                                                                                                                                                                                                                                 |\n",
            "|                                                                                                                                                                                                                                                                                                                                                                                                        |\n",
            "|### Objetivo                                                                                                                                                                                                                                                                                                                                                                                            |\n",
            "|O objetivo desse desafio foi enviar os arquivos CSV locais do desafio final para um Bucket Amazon S3 na camada RAW.                                                                                                                                                                                                                                                                                     |\n",
            "|                                                                                                                                                                                                                                                                                                                                                                                                        |\n",
            "|                                                                                                                                                                                                                                                                                                                                                                                                        |\n",
            "|### Envio dos dados para o bucket                                                                                                                                                                                                                                                                                                                                                                       |\n",
            "|Para enviar os arquivos para o S3, comecei importando a biblioteca `boto3` para estabelecer a conexão com o S3 e fazer o upload dos arquivos, e `datetime` para manipular e organizar as datas de forma eficiente.                                                                                                                                                                                      |\n",
            "|                                                                                                                                                                                                                                                                                                                                                                                                        |\n",
            "|Também importei o arquivo `chaves_aws`, onde estão armazenadas as credenciais de acesso à AWS.                                                                                                                                                                                                                                                                                                          |\n",
            "|                                                                                                                                                                                                                                                                                                                                                                                                        |\n",
            "|![Clique aqui](../evidencias/bibliotecas.jpg)                                                                                                                                                                                                                                                                                                                                                           |\n",
            "|                                                                                                                                                                                                                                                                                                                                                                                                        |\n",
            "|Para configurar a sessão e criar o bucket no S3, iniciei definindo as chaves de acesso e a região usando `boto3.Session`, que foram extraídas das variáveis armazenadas no arquivo `chaves_aws`. Após criar a sessão, configurei o cliente S3 e utilizei a variável `bucket` do mesmo arquivo para definir o nome do bucket. Por fim, utilizei o método `s3.create_bucket()` para criar o bucket no S3. |\n",
            "|                                                                                                                                                                                                                                                                                                                                                                                                        |\n",
            "|![Clique aqui](../evidencias/criando_sessao.jpg)                                                                                                                                                                                                                                                                                                                                                        |\n",
            "|                                                                                                                                                                                                                                                                                                                                                                                                        |\n",
            "|Para ler os arquivos CSV, criei a função `ler_csv` que recebe o caminho do arquivo como parâmetro. A função lê o conteúdo do CSV e armazena na variável data. Em seguida, exibe uma mensagem no terminal confirmando que o arquivo foi lido com sucesso. Por fim, retorna os dados lidos para que possam ser utilizados em outras partes do código.                                                     |\n",
            "|                                                                                                                                                                                                                                                                                                                                                                                                        |\n",
            "|![Clique aqui](../evidencias/funcao_ler_arquivos.jpg)                                                                                                                                                                                                                                                                                                                                                   |\n",
            "+--------------------------------------------------------------------------------------------------------------------------------------------------------------------------------------------------------------------------------------------------------------------------------------------------------------------------------------------------------------------------------------------------------+\n",
            "only showing top 20 rows\n",
            "\n"
          ]
        }
      ]
    },
    {
      "cell_type": "code",
      "source": [
        "from pyspark.sql.functions import explode, split, length, col\n",
        "\n",
        "#separando as linhas por palavras\n",
        "palavras = arquivo.select(explode(split(arquivo.value, '\\s+')).alias('palavra'))\n",
        "\n",
        "#filtrando palavras com 3 ou mais caracteres\n",
        "palavras_filtradas = palavras.filter(length(col('palavra')) >= 3)\n",
        "\n",
        "#contagem da ocorrência de cada palavra\n",
        "contagem_palavras = palavras_filtradas.groupBy('palavra').count()\n",
        "\n",
        "#ordenando as palavras por contagem decrescente\n",
        "ordem = contagem_palavras.orderBy('count', ascending=False)\n",
        "\n",
        "#exibindo as 15 palavras mais frequentes\n",
        "ordem.show(15, truncate=False)"
      ],
      "metadata": {
        "colab": {
          "base_uri": "https://localhost:8080/"
        },
        "id": "Ab5tMC-s4EUz",
        "outputId": "af666e8e-3928-4c9f-a6c4-0316ff90f34d"
      },
      "execution_count": 10,
      "outputs": [
        {
          "output_type": "stream",
          "name": "stdout",
          "text": [
            "+--------+-----+\n",
            "|palavra |count|\n",
            "+--------+-----+\n",
            "|para    |20   |\n",
            "|com     |12   |\n",
            "|que     |11   |\n",
            "|![Clique|9    |\n",
            "|filmes  |8    |\n",
            "|bucket  |8    |\n",
            "|dados   |7    |\n",
            "|crime   |6    |\n",
            "|função  |6    |\n",
            "|dos     |6    |\n",
            "|arquivo |5    |\n",
            "|arquivos|5    |\n",
            "|fim,    |4    |\n",
            "|como    |4    |\n",
            "|uma     |4    |\n",
            "+--------+-----+\n",
            "only showing top 15 rows\n",
            "\n"
          ]
        }
      ]
    }
  ]
}