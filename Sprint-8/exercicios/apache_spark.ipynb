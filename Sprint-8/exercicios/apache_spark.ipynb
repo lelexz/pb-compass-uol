{
  "nbformat": 4,
  "nbformat_minor": 0,
  "metadata": {
    "colab": {
      "provenance": []
    },
    "kernelspec": {
      "name": "python3",
      "display_name": "Python 3"
    },
    "language_info": {
      "name": "python"
    }
  },
  "cells": [
    {
      "cell_type": "code",
      "source": [
        "#instalando java\n",
        "!apt-get install openjdk-8-jdk-headless -qq > /dev/null"
      ],
      "metadata": {
        "id": "iblOKW9lw6H_"
      },
      "execution_count": 58,
      "outputs": []
    },
    {
      "cell_type": "code",
      "source": [
        "#instalando spark\n",
        "!pip install pyspark"
      ],
      "metadata": {
        "colab": {
          "base_uri": "https://localhost:8080/"
        },
        "id": "FM6weHvFw-1d",
        "outputId": "780d42a6-c09a-41d4-ef1d-8aff88a7ebf1"
      },
      "execution_count": 59,
      "outputs": [
        {
          "output_type": "stream",
          "name": "stdout",
          "text": [
            "Requirement already satisfied: pyspark in /usr/local/lib/python3.10/dist-packages (3.5.3)\n",
            "Requirement already satisfied: py4j==0.10.9.7 in /usr/local/lib/python3.10/dist-packages (from pyspark) (0.10.9.7)\n"
          ]
        }
      ]
    },
    {
      "cell_type": "code",
      "source": [
        "#configurando variáveis de ambiente\n",
        "import os\n",
        "os.environ[\"JAVA_HOME\"] = \"/usr/lib/jvm/java-8-openjdk-amd64\"\n",
        "os.environ[\"SPARK_HOME\"] = \"/usr/local/lib/python3.10/dist-packages/pyspark\""
      ],
      "metadata": {
        "id": "_s8_i1Q3xHat"
      },
      "execution_count": 60,
      "outputs": []
    },
    {
      "cell_type": "code",
      "source": [
        "#iniciando SparkSession\n",
        "from pyspark.sql import SparkSession\n",
        "from pyspark import SparkContext, SQLContext\n",
        "\n",
        "spark = SparkSession.builder.master(\"local\").appName(\"Exercício Intro\").getOrCreate()\n"
      ],
      "metadata": {
        "id": "ciu51Og4xTbW"
      },
      "execution_count": 61,
      "outputs": []
    },
    {
      "cell_type": "markdown",
      "source": [
        "#Etapa 1"
      ],
      "metadata": {
        "id": "DeyDgtoAlzug"
      }
    },
    {
      "cell_type": "code",
      "source": [
        "#carregando o arquivo\n",
        "caminho = '/content/nomes_aleatorios.txt'\n",
        "\n",
        "df_nomes = spark.read.csv(caminho)\n",
        "\n",
        "df_nomes.show(5)"
      ],
      "metadata": {
        "id": "iuqnUQPTxpIl",
        "colab": {
          "base_uri": "https://localhost:8080/"
        },
        "outputId": "a64c1353-fbeb-4136-88bc-5e75401f0561"
      },
      "execution_count": 112,
      "outputs": [
        {
          "output_type": "stream",
          "name": "stdout",
          "text": [
            "+----------------+\n",
            "|             _c0|\n",
            "+----------------+\n",
            "|  Frances Bennet|\n",
            "|   Jamie Russell|\n",
            "|  Edward Kistler|\n",
            "|   Sheila Maurer|\n",
            "|Donald Golightly|\n",
            "+----------------+\n",
            "only showing top 5 rows\n",
            "\n"
          ]
        }
      ]
    },
    {
      "cell_type": "markdown",
      "source": [
        "#Etapa 2"
      ],
      "metadata": {
        "id": "YuZwH0fPl4rw"
      }
    },
    {
      "cell_type": "code",
      "source": [
        "df_nomes = df_nomes.withColumnRenamed(\"_c0\", \"Nomes\")\n",
        "df_nomes.printSchema()\n",
        "df_nomes.show(10)"
      ],
      "metadata": {
        "colab": {
          "base_uri": "https://localhost:8080/"
        },
        "id": "fVtOnQ19l6Do",
        "outputId": "39b6ed61-5328-4812-d4bd-e4a9471ccb91"
      },
      "execution_count": 113,
      "outputs": [
        {
          "output_type": "stream",
          "name": "stdout",
          "text": [
            "root\n",
            " |-- Nomes: string (nullable = true)\n",
            "\n",
            "+-----------------+\n",
            "|            Nomes|\n",
            "+-----------------+\n",
            "|   Frances Bennet|\n",
            "|    Jamie Russell|\n",
            "|   Edward Kistler|\n",
            "|    Sheila Maurer|\n",
            "| Donald Golightly|\n",
            "|       David Gray|\n",
            "|      Joy Bennett|\n",
            "|      Paul Kriese|\n",
            "|Berniece Ornellas|\n",
            "|    Brian Farrell|\n",
            "+-----------------+\n",
            "only showing top 10 rows\n",
            "\n"
          ]
        }
      ]
    },
    {
      "cell_type": "markdown",
      "source": [
        "#Etapa 3"
      ],
      "metadata": {
        "id": "FR8R2UawmmIL"
      }
    },
    {
      "cell_type": "code",
      "source": [
        "from pyspark.sql.functions import when, rand\n",
        "\n",
        "df_nomes = df_nomes.withColumn(\n",
        "    \"Escolaridade\",\n",
        "    when(rand() < 0.33, \"Fundamental\").otherwise(\n",
        "        when(rand() < 0.66, \"Medio\").otherwise(\"Superior\")\n",
        "    ),\n",
        ")\n",
        "\n",
        "df_nomes.show(10)"
      ],
      "metadata": {
        "colab": {
          "base_uri": "https://localhost:8080/"
        },
        "id": "9_wUvHHXmncY",
        "outputId": "7fd13fd0-12a2-470e-991a-44e8dbeaf2c0"
      },
      "execution_count": 114,
      "outputs": [
        {
          "output_type": "stream",
          "name": "stdout",
          "text": [
            "+-----------------+------------+\n",
            "|            Nomes|Escolaridade|\n",
            "+-----------------+------------+\n",
            "|   Frances Bennet|    Superior|\n",
            "|    Jamie Russell|       Medio|\n",
            "|   Edward Kistler|       Medio|\n",
            "|    Sheila Maurer|       Medio|\n",
            "| Donald Golightly|       Medio|\n",
            "|       David Gray| Fundamental|\n",
            "|      Joy Bennett| Fundamental|\n",
            "|      Paul Kriese| Fundamental|\n",
            "|Berniece Ornellas|       Medio|\n",
            "|    Brian Farrell| Fundamental|\n",
            "+-----------------+------------+\n",
            "only showing top 10 rows\n",
            "\n"
          ]
        }
      ]
    },
    {
      "cell_type": "markdown",
      "source": [
        "#Etapa 4"
      ],
      "metadata": {
        "id": "gnhdVnI2oT3j"
      }
    },
    {
      "cell_type": "code",
      "source": [
        "paises = [\"Itália\",\n",
        "          \"Holanda\",\n",
        "          \"Espanha\",\n",
        "          \"Omã\",\n",
        "          \"Sri Lanka\",\n",
        "          \"Grécia\",\n",
        "          \"Brasil\",\n",
        "          \"Austrália\",\n",
        "          \"Nova Zelândia\",\n",
        "          \"Noruega\",\n",
        "          \"Suíça\",\n",
        "          \"Japão\",\n",
        "          \"Egito\"]\n",
        "\n",
        "df_nomes = df_nomes.withColumn(\n",
        "    \"Pais\",\n",
        "    when(rand() < 1 / 13, paises[0])\n",
        "    .when(rand() < 2 / 13, paises[1])\n",
        "    .when(rand() < 3 / 13, paises[2])\n",
        "    .when(rand() < 4 / 13, paises[3])\n",
        "    .when(rand() < 5 / 13, paises[4])\n",
        "    .when(rand() < 6 / 13, paises[5])\n",
        "    .when(rand() < 7 / 13, paises[6])\n",
        "    .when(rand() < 8 / 13, paises[7])\n",
        "    .when(rand() < 9 / 13, paises[8])\n",
        "    .when(rand() < 10 / 13, paises[9])\n",
        "    .when(rand() < 11 / 13, paises[10])\n",
        "    .when(rand() < 12 / 13, paises[11])\n",
        "    .otherwise(paises[12]),\n",
        ")\n",
        "\n",
        "df_nomes.show(10)"
      ],
      "metadata": {
        "colab": {
          "base_uri": "https://localhost:8080/"
        },
        "id": "vc7-XQ0doVGN",
        "outputId": "a5031c10-4fe7-4ab6-cd37-471b0a2bf6c3"
      },
      "execution_count": 115,
      "outputs": [
        {
          "output_type": "stream",
          "name": "stdout",
          "text": [
            "+-----------------+------------+---------+\n",
            "|            Nomes|Escolaridade|     Pais|\n",
            "+-----------------+------------+---------+\n",
            "|   Frances Bennet|    Superior|   Grécia|\n",
            "|    Jamie Russell|       Medio|   Grécia|\n",
            "|   Edward Kistler|       Medio|Sri Lanka|\n",
            "|    Sheila Maurer|       Medio|  Holanda|\n",
            "| Donald Golightly|       Medio|  Espanha|\n",
            "|       David Gray| Fundamental|  Espanha|\n",
            "|      Joy Bennett| Fundamental|   Brasil|\n",
            "|      Paul Kriese| Fundamental|   Itália|\n",
            "|Berniece Ornellas|       Medio|   Grécia|\n",
            "|    Brian Farrell| Fundamental|  Espanha|\n",
            "+-----------------+------------+---------+\n",
            "only showing top 10 rows\n",
            "\n"
          ]
        }
      ]
    },
    {
      "cell_type": "markdown",
      "source": [
        "#Etapa 5"
      ],
      "metadata": {
        "id": "xfI5UjXqpzk7"
      }
    },
    {
      "cell_type": "code",
      "source": [
        "from pyspark.sql.functions import floor\n",
        "\n",
        "df_nomes = df_nomes.withColumn(\n",
        "    \"AnoNascimento\", floor(rand() * (2010 - 1945 + 1) + 1945)\n",
        ")\n",
        "\n",
        "df_nomes.show(10)"
      ],
      "metadata": {
        "colab": {
          "base_uri": "https://localhost:8080/"
        },
        "id": "y7venKFrp0yh",
        "outputId": "4ac328e2-d372-4527-8a71-f1650a198bf2"
      },
      "execution_count": 116,
      "outputs": [
        {
          "output_type": "stream",
          "name": "stdout",
          "text": [
            "+-----------------+------------+---------+-------------+\n",
            "|            Nomes|Escolaridade|     Pais|AnoNascimento|\n",
            "+-----------------+------------+---------+-------------+\n",
            "|   Frances Bennet|    Superior|   Grécia|         1980|\n",
            "|    Jamie Russell|       Medio|   Grécia|         1962|\n",
            "|   Edward Kistler|       Medio|Sri Lanka|         1951|\n",
            "|    Sheila Maurer|       Medio|  Holanda|         1951|\n",
            "| Donald Golightly|       Medio|  Espanha|         1967|\n",
            "|       David Gray| Fundamental|  Espanha|         1954|\n",
            "|      Joy Bennett| Fundamental|   Brasil|         1994|\n",
            "|      Paul Kriese| Fundamental|   Itália|         1991|\n",
            "|Berniece Ornellas|       Medio|   Grécia|         1964|\n",
            "|    Brian Farrell| Fundamental|  Espanha|         1972|\n",
            "+-----------------+------------+---------+-------------+\n",
            "only showing top 10 rows\n",
            "\n"
          ]
        }
      ]
    },
    {
      "cell_type": "markdown",
      "source": [
        "#Etapa 6"
      ],
      "metadata": {
        "id": "lFFFkcB5qsIZ"
      }
    },
    {
      "cell_type": "code",
      "source": [
        "df_select = df_nomes.filter(df_nomes.AnoNascimento >= 2001)\n",
        "\n",
        "df_select.show(10)"
      ],
      "metadata": {
        "colab": {
          "base_uri": "https://localhost:8080/"
        },
        "id": "f421xf_Mqu63",
        "outputId": "6ee2f7bc-2b0b-44db-96da-516a6fcdfbfd"
      },
      "execution_count": 102,
      "outputs": [
        {
          "output_type": "stream",
          "name": "stdout",
          "text": [
            "+---------------+------------+---------+-------------+\n",
            "|          Nomes|Escolaridade|     Pais|AnoNascimento|\n",
            "+---------------+------------+---------+-------------+\n",
            "|   David Medina| Fundamental|Sri Lanka|         2003|\n",
            "| Lorenzo Woodis|       Medio|  Holanda|         2001|\n",
            "|    Albert Leef|       Medio|      Omã|         2001|\n",
            "|Helen Blackwell| Fundamental|Sri Lanka|         2006|\n",
            "|   Rebecca Snow|    Superior|Sri Lanka|         2010|\n",
            "| Amanda Gravitt|       Medio|      Omã|         2010|\n",
            "|   Roxie Bernal|       Medio|   Grécia|         2001|\n",
            "|   James Barton| Fundamental|   Itália|         2005|\n",
            "|  George Miller|       Medio|  Espanha|         2004|\n",
            "|   Juliet Liles|       Medio|  Holanda|         2002|\n",
            "+---------------+------------+---------+-------------+\n",
            "only showing top 10 rows\n",
            "\n"
          ]
        }
      ]
    },
    {
      "cell_type": "markdown",
      "source": [
        "#Etapa 7"
      ],
      "metadata": {
        "id": "GEaIhMiGrqEf"
      }
    },
    {
      "cell_type": "code",
      "source": [
        "df_select.createOrReplaceTempView(\"pessoas\")\n",
        "\n",
        "spark.sql(\"SELECT * FROM pessoas WHERE AnoNascimento >= 2001\").show(10)"
      ],
      "metadata": {
        "colab": {
          "base_uri": "https://localhost:8080/"
        },
        "id": "joS_4TDOrrKe",
        "outputId": "b8ad3594-5b05-4d97-a894-b724f1ff3aea"
      },
      "execution_count": 103,
      "outputs": [
        {
          "output_type": "stream",
          "name": "stdout",
          "text": [
            "+---------------+------------+---------+-------------+\n",
            "|          Nomes|Escolaridade|     Pais|AnoNascimento|\n",
            "+---------------+------------+---------+-------------+\n",
            "|   David Medina| Fundamental|Sri Lanka|         2003|\n",
            "| Lorenzo Woodis|       Medio|  Holanda|         2001|\n",
            "|    Albert Leef|       Medio|      Omã|         2001|\n",
            "|Helen Blackwell| Fundamental|Sri Lanka|         2006|\n",
            "|   Rebecca Snow|    Superior|Sri Lanka|         2010|\n",
            "| Amanda Gravitt|       Medio|      Omã|         2010|\n",
            "|   Roxie Bernal|       Medio|   Grécia|         2001|\n",
            "|   James Barton| Fundamental|   Itália|         2005|\n",
            "|  George Miller|       Medio|  Espanha|         2004|\n",
            "|   Juliet Liles|       Medio|  Holanda|         2002|\n",
            "+---------------+------------+---------+-------------+\n",
            "only showing top 10 rows\n",
            "\n"
          ]
        }
      ]
    },
    {
      "cell_type": "markdown",
      "source": [
        "#Etapa 8"
      ],
      "metadata": {
        "id": "cMFKYZUOsXKW"
      }
    },
    {
      "cell_type": "code",
      "source": [
        "df_nomes = df_nomes.filter((df_nomes.AnoNascimento >= 1980) & (df_nomes.AnoNascimento <= 1994))\n",
        "millenials = df_nomes.count()\n",
        "\n",
        "print(millenials)"
      ],
      "metadata": {
        "colab": {
          "base_uri": "https://localhost:8080/"
        },
        "id": "PEUSmcHKsZfF",
        "outputId": "8d209deb-5d2d-468e-c9dd-6b23c17aaf8d"
      },
      "execution_count": 109,
      "outputs": [
        {
          "output_type": "stream",
          "name": "stdout",
          "text": [
            "2286754\n"
          ]
        }
      ]
    },
    {
      "cell_type": "markdown",
      "source": [
        "#Etapa 9"
      ],
      "metadata": {
        "id": "Dfv4c5S5xADV"
      }
    },
    {
      "cell_type": "code",
      "source": [
        "df_nomes.createOrReplaceTempView(\"pessoas\")\n",
        "\n",
        "spark.sql(\"SELECT COUNT(*) FROM pessoas WHERE AnoNascimento >= 1980 AND AnoNascimento <= 1994\").show(10)"
      ],
      "metadata": {
        "colab": {
          "base_uri": "https://localhost:8080/"
        },
        "id": "7_QgMvwVxCZu",
        "outputId": "4a890aed-8104-49c8-efd9-9365e59af082"
      },
      "execution_count": 110,
      "outputs": [
        {
          "output_type": "stream",
          "name": "stdout",
          "text": [
            "+--------+\n",
            "|count(1)|\n",
            "+--------+\n",
            "| 2286754|\n",
            "+--------+\n",
            "\n"
          ]
        }
      ]
    },
    {
      "cell_type": "markdown",
      "source": [
        "#Etapa 10"
      ],
      "metadata": {
        "id": "No-t3roQxixV"
      }
    },
    {
      "cell_type": "code",
      "source": [
        "df_nomes.createOrReplaceTempView(\"pessoas\")\n",
        "\n",
        "df_geracoes = spark.sql(\n",
        "    \"\"\"SELECT Pais,\n",
        "          CASE\n",
        "              WHEN\n",
        "              AnoNascimento BETWEEN 1944 AND 1964\n",
        "              THEN 'Baby Boomers'\n",
        "\n",
        "              WHEN\n",
        "              AnoNascimento BETWEEN 1965 AND 1979\n",
        "              THEN 'Geração X'\n",
        "\n",
        "              WHEN\n",
        "              AnoNascimento BETWEEN 1980 AND 1994\n",
        "              THEN 'Millenials'\n",
        "\n",
        "              WHEN\n",
        "              AnoNascimento BETWEEN 1995 AND 2015\n",
        "              THEN 'Geração Z'\n",
        "\n",
        "              END AS Geracao,\n",
        "\n",
        "              COUNT (*) AS Quantidade\n",
        "              FROM pessoas\n",
        "              GROUP BY Pais, Geracao\n",
        "              ORDER BY Pais ASC, Geracao ASC, Quantidade ASC\n",
        "\n",
        "\"\"\"\n",
        ")\n",
        "\n",
        "df_geracoes.show()"
      ],
      "metadata": {
        "colab": {
          "base_uri": "https://localhost:8080/"
        },
        "id": "aTYhZJXKxl1O",
        "outputId": "65bdb633-3299-4f31-bf71-9574692e9063"
      },
      "execution_count": 117,
      "outputs": [
        {
          "output_type": "stream",
          "name": "stdout",
          "text": [
            "+---------+------------+----------+\n",
            "|     Pais|     Geracao|Quantidade|\n",
            "+---------+------------+----------+\n",
            "|Austrália|Baby Boomers|    119449|\n",
            "|Austrália|   Geração X|     89943|\n",
            "|Austrália|   Geração Z|     95957|\n",
            "|Austrália|  Millenials|     89868|\n",
            "|   Brasil|Baby Boomers|    226572|\n",
            "|   Brasil|   Geração X|    170243|\n",
            "|   Brasil|   Geração Z|    181011|\n",
            "|   Brasil|  Millenials|    169845|\n",
            "|    Egito|Baby Boomers|        77|\n",
            "|    Egito|   Geração X|        57|\n",
            "|    Egito|   Geração Z|        49|\n",
            "|    Egito|  Millenials|        39|\n",
            "|  Espanha|Baby Boomers|    550684|\n",
            "|  Espanha|   Geração X|    412297|\n",
            "|  Espanha|   Geração Z|    438735|\n",
            "|  Espanha|  Millenials|    413496|\n",
            "|   Grécia|Baby Boomers|    359900|\n",
            "|   Grécia|   Geração X|    269723|\n",
            "|   Grécia|   Geração Z|    288719|\n",
            "|   Grécia|  Millenials|    270208|\n",
            "+---------+------------+----------+\n",
            "only showing top 20 rows\n",
            "\n"
          ]
        }
      ]
    }
  ]
}